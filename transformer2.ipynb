{
 "cells": [
  {
   "cell_type": "code",
   "execution_count": 18,
   "metadata": {},
   "outputs": [],
   "source": [
    "import torch\n",
    "import math\n",
    "import json\n",
    "import layers"
   ]
  },
  {
   "cell_type": "code",
   "execution_count": 19,
   "metadata": {},
   "outputs": [
    {
     "name": "stdout",
     "output_type": "stream",
     "text": [
      "Running on the GPU\n"
     ]
    }
   ],
   "source": [
    "torch.set_default_dtype(torch.float32)\n",
    "if torch.cuda.is_available():\n",
    "     torch.set_default_device(0)\n",
    "     print(\"Running on the GPU\")\n",
    "else:\n",
    "     print(\"Running on the CPU\")"
   ]
  },
  {
   "cell_type": "code",
   "execution_count": 20,
   "metadata": {},
   "outputs": [],
   "source": [
    "with open(\"bee20script.txt\", \"r\") as file:\n",
    "    data = file.read()\n",
    "    \n",
    "words = set(data.split(\" \"))\n",
    "word_dict = {}\n",
    "unique_words = len(words)\n",
    "for i, word in enumerate(words):\n",
    "    one_hot = torch.zeros(unique_words)\n",
    "    one_hot[i] = 1\n",
    "    word_dict[word] = one_hot\n"
   ]
  },
  {
   "cell_type": "code",
   "execution_count": 21,
   "metadata": {},
   "outputs": [],
   "source": [
    "one_hot_encoded = []\n",
    "for word in data.split(\" \"):\n",
    "    one_hot_encoded.append(word_dict[word])"
   ]
  },
  {
   "cell_type": "code",
   "execution_count": 22,
   "metadata": {},
   "outputs": [
    {
     "data": {
      "text/plain": [
       "3169"
      ]
     },
     "execution_count": 22,
     "metadata": {},
     "output_type": "execute_result"
    }
   ],
   "source": [
    "token_count = len(word_dict)\n",
    "token_count"
   ]
  },
  {
   "cell_type": "code",
   "execution_count": 23,
   "metadata": {},
   "outputs": [],
   "source": [
    "d_model = 512\n",
    "h = 4\n",
    "n = 6\n",
    "d_k = int(d_model / h)\n",
    "d_v = d_k\n",
    "attention_scaling = 1/(math.sqrt(d_k))\n",
    "d_f_f = 4*d_model\n",
    "num_tokens = 5"
   ]
  },
  {
   "cell_type": "code",
   "execution_count": 24,
   "metadata": {},
   "outputs": [
    {
     "data": {
      "text/plain": [
       "torch.Size([3169, 5])"
      ]
     },
     "execution_count": 24,
     "metadata": {},
     "output_type": "execute_result"
    }
   ],
   "source": [
    "input_ = torch.column_stack(one_hot_encoded[0:5])\n",
    "input_.size()"
   ]
  },
  {
   "cell_type": "code",
   "execution_count": 25,
   "metadata": {},
   "outputs": [],
   "source": [
    "def positional_encoding(num_tokens, d_model):\n",
    "    encoding = torch.zeros(d_model, num_tokens)\n",
    "    for pos in range(num_tokens):\n",
    "        for i in range(0,d_model,2):\n",
    "            encoding[i, pos] = math.sin(pos/(10000 ** ((2 * i) / d_model)))\n",
    "            encoding[i + 1, pos] = math.cos(pos/(10000 ** ((2 * i) / d_model)))\n",
    "    return encoding"
   ]
  },
  {
   "cell_type": "code",
   "execution_count": 27,
   "metadata": {},
   "outputs": [],
   "source": [
    "main_input = layers.Input((token_count,num_tokens), train=False)\n",
    "main_input.set(input_)"
   ]
  },
  {
   "cell_type": "code",
   "execution_count": 29,
   "metadata": {},
   "outputs": [],
   "source": [
    "embedding_W = layers.Input((d_model,token_count), train=True)\n",
    "embedding_W.set(torch.randn(d_model, token_count , requires_grad=True))\n",
    "#From what I understand the embededing does not have a bias, my library has a bias required so I just have it set to 0\n",
    "placeholder_bias = layers.Input((d_model,1), train=False)\n",
    "placeholder_bias.set(torch.zeros(d_model,1))\n",
    "embedding_layer = layers.Linear(main_input, embedding_W, placeholder_bias)"
   ]
  },
  {
   "cell_type": "code",
   "execution_count": null,
   "metadata": {},
   "outputs": [],
   "source": []
  }
 ],
 "metadata": {
  "kernelspec": {
   "display_name": "Python 3",
   "language": "python",
   "name": "python3"
  },
  "language_info": {
   "codemirror_mode": {
    "name": "ipython",
    "version": 3
   },
   "file_extension": ".py",
   "mimetype": "text/x-python",
   "name": "python",
   "nbconvert_exporter": "python",
   "pygments_lexer": "ipython3",
   "version": "3.12.4"
  },
  "orig_nbformat": 4
 },
 "nbformat": 4,
 "nbformat_minor": 2
}
